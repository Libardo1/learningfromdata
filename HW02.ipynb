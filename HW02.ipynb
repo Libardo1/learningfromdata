{
 "metadata": {
  "name": "",
  "signature": "sha256:11cab4f9d9afdeab0340e91a255bd84aaccaea333defc8e31dec640e3fb40920"
 },
 "nbformat": 3,
 "nbformat_minor": 0,
 "worksheets": [
  {
   "cells": [
    {
     "cell_type": "code",
     "collapsed": false,
     "input": [
      "%matplotlib inline\n",
      "import pandas\n",
      "import numpy as np\n",
      "uniform "
     ],
     "language": "python",
     "metadata": {},
     "outputs": [],
     "prompt_number": 1
    },
    {
     "cell_type": "code",
     "collapsed": false,
     "input": [
      "#Question 5\n",
      "X = np.random.uniform(low = -1, high = 2, size = (100,2))\n",
      "#np.random.uniform?"
     ],
     "language": "python",
     "metadata": {},
     "outputs": [],
     "prompt_number": 30
    },
    {
     "cell_type": "code",
     "collapsed": false,
     "input": [
      "x1 = X[np.random.randint(0, high=len(X))]\n",
      "x2 = X[np.random.randint(0, high=len(X))]\n",
      "m = (x2[1] - x1[1]) / (x2[0] - x1[0])\n",
      "c = x1[1] - m * x1[0]\n",
      "print x2,x1,m,c"
     ],
     "language": "python",
     "metadata": {},
     "outputs": [
      {
       "output_type": "stream",
       "stream": "stdout",
       "text": [
        "[ 0.95080936 -0.30056891] [ 0.70804178  0.56327906] -3.55833344191 3.08272781914\n"
       ]
      }
     ],
     "prompt_number": 51
    },
    {
     "cell_type": "code",
     "collapsed": false,
     "input": [],
     "language": "python",
     "metadata": {},
     "outputs": []
    }
   ],
   "metadata": {}
  }
 ]
}