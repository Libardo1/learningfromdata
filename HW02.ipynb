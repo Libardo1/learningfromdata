{
 "metadata": {
  "name": "",
  "signature": "sha256:d33ec850586bbb91d84dc42dfeec13f676b972e8ab21f4dc6fbbf672b1cdd3c1"
 },
 "nbformat": 3,
 "nbformat_minor": 0,
 "worksheets": [
  {
   "cells": [
    {
     "cell_type": "code",
     "collapsed": false,
     "input": [
      "%matplotlib inline\n",
      "import pandas as pd\n",
      "import numpy as np\n",
      "import matplotlib.pyplot as plt"
     ],
     "language": "python",
     "metadata": {},
     "outputs": [],
     "prompt_number": 18
    },
    {
     "cell_type": "code",
     "collapsed": false,
     "input": [
      "df = pd.DataFrame()\n",
      "n = 100\n",
      "df['x'] = [np.random.uniform(low = -1, high = 1) for x in range(n)]\n",
      "df['y'] = [np.random.uniform(low = -1, high = 1) for x in range(n)]\n",
      "n1 = np.random.randint(0, high=n)\n",
      "n2 = np.random.randint(0, high=n)\n",
      "x1,y1 = df.x[n1],df.y[n1]\n",
      "x2,y2 = df.x[n2],df.y[n2]\n",
      "m = (y2 - y1) / (x2 - x1)\n",
      "c = y1 - m * x1"
     ],
     "language": "python",
     "metadata": {},
     "outputs": [],
     "prompt_number": 19
    },
    {
     "cell_type": "code",
     "collapsed": false,
     "input": [
      "def linearmodel(m, c, x): return m * x + c\n",
      "colors = np.where(linearmodel(m, c, df.x) > df.y, 'r', 'k')\n",
      "plt.scatter([df.x[n1],df.x[n2]], [df.y[n1],df.y[n2]], s=120, c = colors)\n",
      "xi = np.arange(-1,2)\n",
      "line = c + xi * m\n",
      "labels = [1 if x[1] >= linearmodel(m, c, x[0]) else -1 for x in zip(df.x, df.y)]\n",
      "#np.random.uniform?"
     ],
     "language": "python",
     "metadata": {},
     "outputs": [
      {
       "metadata": {},
       "output_type": "display_data",
       "png": "[encoded data removed]",
       "text": [
        "<matplotlib.figure.Figure at 0x110a57f90>"
       ]
      }
     ],
     "prompt_number": 140
    },
    {
     "cell_type": "code",
     "collapsed": false,
     "input": [
      "x = [np.random.uniform(low = -1, high = 1) for _ in range(n)]\n",
      "y = [np.random.uniform(low = -1, high = 1) for _ in range(n)]\n",
      "n1 = np.random.randint(0, high=n)\n",
      "n2 = np.random.randint(0, high=n)\n",
      "x1,y1 = x[n1],y[n1]\n",
      "x2,y2 = x[n2],y[n2]\n",
      "x1,y1 = x[n1],y[n1]\n",
      "x2,y2 = x[n2],y[n2]\n",
      "m = (y2 - y1) / (x2 - x1)\n",
      "c = y1 - m * x1\n",
      "labels = [1 if p[1] >= linearmodel(m, c, p[0]) else -1 for p in zip(x, y)]\n",
      "X = np.matrix([np.ones(len(x)), x]).transpose()\n",
      "Y = np.matrix(y).transpose()\n",
      "w = np.dot(np.linalg.pinv(X), Y)\n",
      "_ = np.dot(X,w) - Y\n",
      "Ein = np.sum(np.kron(_,_)) / len(Y)"
     ],
     "language": "python",
     "metadata": {},
     "outputs": [],
     "prompt_number": 110
    },
    {
     "cell_type": "code",
     "collapsed": false,
     "input": [
      "print m,c,w,Ein"
     ],
     "language": "python",
     "metadata": {},
     "outputs": [
      {
       "output_type": "stream",
       "stream": "stdout",
       "text": [
        "0.379553708678 -0.655128879435 [[ 0.04151192]\n",
        " [ 0.08789566]] -1.22124532709e-17\n"
       ]
      }
     ],
     "prompt_number": 111
    },
    {
     "cell_type": "code",
     "collapsed": false,
     "input": [
      "np.linalg.inv(np.linalg.inv(np.dot(X.transpose(),X)))"
     ],
     "language": "python",
     "metadata": {},
     "outputs": [
      {
       "metadata": {},
       "output_type": "pyout",
       "prompt_number": 114,
       "text": [
        "matrix([[100.        ,  -6.58473818],\n",
        "        [ -6.58473818,  32.4056741 ]])"
       ]
      }
     ],
     "prompt_number": 114
    },
    {
     "cell_type": "code",
     "collapsed": false,
     "input": [
      "np.dot(_, X.transpose())"
     ],
     "language": "python",
     "metadata": {},
     "outputs": [
      {
       "metadata": {},
       "output_type": "pyout",
       "prompt_number": 115,
       "text": [
        "matrix([[ 103.37869677,  105.07943002,   96.0568616 ,   95.40729663,\n",
        "          103.24298812,   95.55748256,   94.09262659,   98.06581328,\n",
        "          100.14615059,   98.42384579,  104.13806486,  102.36608879,\n",
        "          102.67780156,  100.15845065,  103.14341682,  103.15858957,\n",
        "           97.14880099,   96.03332203,   97.99602464,  106.53822583,\n",
        "          104.35353622,   99.53814857,   96.02396203,  100.89462335,\n",
        "          105.32823912,  103.43958669,   94.45341276,   99.63680721,\n",
        "          103.01921539,   97.72524193,  102.63259645,  100.19576077,\n",
        "          101.81083343,  105.77865682,   97.38583102,   94.13120564,\n",
        "          104.19501084,  103.60904598,   93.64664615,   94.44380423,\n",
        "           99.45120738,  105.41283009,  104.80906832,   98.13950552,\n",
        "          101.61010678,  102.89406792,  102.47622272,  100.21552048,\n",
        "           97.16384799,  100.95730252,   94.56384023,   97.75106427,\n",
        "          102.39657279,  104.47363242,   94.01541337,   98.09856805,\n",
        "           98.57958043,  100.11826867,  102.96468329,   98.21937171,\n",
        "          104.83605446,  102.83655385,  102.85354995,  104.47269866,\n",
        "           94.16008801,  100.02897565,  100.92375443,  103.7313756 ,\n",
        "          106.16634035,   96.66532548,  105.36876477,  104.8469707 ,\n",
        "          105.48926606,   93.48455532,  100.5411851 ,  105.15753764,\n",
        "          104.83674244,  104.4051399 ,   98.77285389,  103.72754759,\n",
        "          103.91333841,   95.69421489,   94.1579056 ,   99.32523439,\n",
        "          101.43844409,   96.04694111,   93.52074078,   98.99815399,\n",
        "          102.04488531,   99.14636907,  103.87639748,  103.36637285,\n",
        "           96.35957937,  100.63607008,  105.27968744,   99.22195924,\n",
        "           97.5725161 ,  106.1250382 ,   98.33132946,   95.63550188],\n",
        "        [ -23.21242228,  -31.58229304,   12.82074987,   16.01747389,\n",
        "          -22.54455516,   15.27835925,   22.48739992,    2.9340343 ,\n",
        "           -7.30399355,    1.17203791,  -26.94952377,  -18.22904357,\n",
        "          -19.76308521,   -7.36452624,  -22.05453184,  -22.12920198,\n",
        "            7.44695502,   12.93659588,    3.27748726,  -38.76150967,\n",
        "          -28.00992962,   -4.31181457,   12.98265951,  -10.98747555,\n",
        "          -32.80676489,  -23.51208175,   20.71185187,   -4.79734637,\n",
        "          -21.44329554,    4.61009852,  -19.54061591,   -7.54814166,\n",
        "          -15.49644832,  -35.02341935,    6.28045188,   22.29753962,\n",
        "          -27.22977377,  -24.34604694,   24.68221715,   20.75913859,\n",
        "           -3.88394822,  -33.22306504,  -30.2517537 ,    2.57137041,\n",
        "          -14.50860607,  -20.82740348,  -18.77104908,   -7.64538575,\n",
        "            7.37290378,  -11.29594043,   20.16840175,    4.48301829,\n",
        "          -18.37906542,  -28.6009627 ,   22.86739171,    2.77283725,\n",
        "            0.40561626,   -7.1667774 ,  -21.17492506,    2.17832247,\n",
        "          -30.38456141,  -20.54435768,  -20.62800115,  -28.5963674 ,\n",
        "           22.15539995,   -6.72733691,  -11.13083918,  -24.94807145,\n",
        "          -36.9313382 ,    9.82629789,  -33.00620505,  -30.43828386,\n",
        "          -33.59923173,   25.4799197 ,   -9.24808903,  -31.96668649,\n",
        "          -30.38794723,  -28.26388838,   -0.54554634,  -24.92923253,\n",
        "          -25.84357063,   14.60545425,   22.16614031,   -3.26399348,\n",
        "          -13.6637972 ,   12.86957189,   25.30183908,   -1.65432267,\n",
        "          -16.64829503,   -2.38373806,  -25.66177206,  -23.15177222,\n",
        "           11.33097562,   -9.71504937,  -32.56782603,   -2.75574228,\n",
        "            5.36171286,  -36.72807667,    1.62734136,   14.89440039]])"
       ]
      }
     ],
     "prompt_number": 115
    },
    {
     "cell_type": "code",
     "collapsed": false,
     "input": [
      "np.dot(_,Y)"
     ],
     "language": "python",
     "metadata": {},
     "outputs": [
      {
       "metadata": {},
       "output_type": "pyout",
       "prompt_number": 116,
       "text": [
        "matrix([[ 340.28674026],\n",
        "        [  59.92026171]])"
       ]
      }
     ],
     "prompt_number": 116
    },
    {
     "cell_type": "code",
     "collapsed": false,
     "input": [
      "print m,c"
     ],
     "language": "python",
     "metadata": {},
     "outputs": [
      {
       "output_type": "stream",
       "stream": "stdout",
       "text": [
        "0.379553708678 -0.655128879435\n"
       ]
      }
     ],
     "prompt_number": 117
    },
    {
     "cell_type": "code",
     "collapsed": false,
     "input": [
      "print xi"
     ],
     "language": "python",
     "metadata": {},
     "outputs": [
      {
       "output_type": "stream",
       "stream": "stdout",
       "text": [
        "[-1  0  1]\n"
       ]
      }
     ],
     "prompt_number": 141
    },
    {
     "cell_type": "code",
     "collapsed": false,
     "input": [
      "A = np.array([x, np.ones(len(x))])"
     ],
     "language": "python",
     "metadata": {},
     "outputs": [],
     "prompt_number": 123
    },
    {
     "cell_type": "code",
     "collapsed": false,
     "input": [
      "np.linalg.lstsq(A.T,y)[0]"
     ],
     "language": "python",
     "metadata": {},
     "outputs": [
      {
       "metadata": {},
       "output_type": "pyout",
       "prompt_number": 127,
       "text": [
        "array([ 0.08789566,  0.04151192])"
       ]
      }
     ],
     "prompt_number": 127
    },
    {
     "cell_type": "code",
     "collapsed": false,
     "input": [
      "print m,c"
     ],
     "language": "python",
     "metadata": {},
     "outputs": [
      {
       "output_type": "stream",
       "stream": "stdout",
       "text": [
        "0.379553708678 -0.655128879435\n"
       ]
      }
     ],
     "prompt_number": 128
    },
    {
     "cell_type": "code",
     "collapsed": false,
     "input": [],
     "language": "python",
     "metadata": {},
     "outputs": []
    }
   ],
   "metadata": {}
  }
 ]
}