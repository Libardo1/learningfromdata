{
 "metadata": {
  "name": "",
  "signature": "sha256:07feb0fa035ecf3858c3d649f6a9efa857dd423fdfa8a2f0ad835a79e07da9c5"
 },
 "nbformat": 3,
 "nbformat_minor": 0,
 "worksheets": [
  {
   "cells": [
    {
     "cell_type": "code",
     "collapsed": false,
     "input": [
      "%matplotlib inline\n",
      "import pandas\n",
      "import numpy as np"
     ],
     "language": "python",
     "metadata": {},
     "outputs": [],
     "prompt_number": 1
    },
    {
     "cell_type": "code",
     "collapsed": false,
     "input": [
      "\"\"\"Exercise 1.1.0\"\"\"\n",
      "\n",
      "def flipncoins(ncoins, flips, prob = 0.5):\n",
      "    res = [sum([np.random.random() >= prob  for x in range(flips)]) for y in range(ncoins)]\n",
      "    return [res[0], res[np.random.randint(len(res))], min(res)]\n",
      "np.random.seed(42)"
     ],
     "language": "python",
     "metadata": {},
     "outputs": [],
     "prompt_number": 11
    },
    {
     "cell_type": "code",
     "collapsed": false,
     "input": [
      "\"\"\"Question 1.10 a\"\"\"\n",
      "res = flipncoins(1000,10)\n",
      "print \"Sample means for the three coins selected first = %0.3f, random = %0.3f, min = %0.3f\" %(res[0],res[1],res[2])\n"
     ],
     "language": "python",
     "metadata": {},
     "outputs": [
      {
       "output_type": "stream",
       "stream": "stdout",
       "text": [
        "Sample means for the three coins selected first = 6.000, random = 6.000, min = 1.000\n"
       ]
      }
     ],
     "prompt_number": 12
    },
    {
     "cell_type": "code",
     "collapsed": false,
     "input": [
      "\"\"\"Question 1.10 b\"\"\"\n",
      "first = []\n",
      "rand = []\n",
      "mins = []\n",
      "for i in range(1000):\n",
      "    r = flipncoins(1000,10)\n",
      "    first.append(r[0])\n",
      "    rand.append(r[1])\n",
      "    mins.append(r[2])\n",
      "    \n",
      "df = pandas.DataFrame()\n",
      "df['first'] = first\n",
      "df['random'] = rand\n",
      "df['min'] = mins\n"
     ],
     "language": "python",
     "metadata": {},
     "outputs": [],
     "prompt_number": 15
    },
    {
     "cell_type": "code",
     "collapsed": false,
     "input": [
      "df.hist()"
     ],
     "language": "python",
     "metadata": {},
     "outputs": [
      {
       "metadata": {},
       "output_type": "pyout",
       "prompt_number": 16,
       "text": [
        "array([[<matplotlib.axes.AxesSubplot object at 0x107d53d50>,\n",
        "        <matplotlib.axes.AxesSubplot object at 0x107d34a90>],\n",
        "       [<matplotlib.axes.AxesSubplot object at 0x107ea2610>,\n",
        "        <matplotlib.axes.AxesSubplot object at 0x107ef8e10>]], dtype=object)"
       ]
      },
      {
       "metadata": {},
       "output_type": "display_data",
       "png": "[encoded data removed]",
       "text": [
        "<matplotlib.figure.Figure at 0x107d2b110>"
       ]
      }
     ],
     "prompt_number": 16
    },
    {
     "cell_type": "code",
     "collapsed": false,
     "input": [
      "df['min'].describe()"
     ],
     "language": "python",
     "metadata": {},
     "outputs": [
      {
       "metadata": {},
       "output_type": "pyout",
       "prompt_number": 19,
       "text": [
        "count    1000.000000\n",
        "mean        0.359000\n",
        "std         0.479947\n",
        "min         0.000000\n",
        "25%         0.000000\n",
        "50%         0.000000\n",
        "75%         1.000000\n",
        "max         1.000000\n",
        "dtype: float64"
       ]
      }
     ],
     "prompt_number": 19
    },
    {
     "cell_type": "code",
     "collapsed": false,
     "input": [],
     "language": "python",
     "metadata": {},
     "outputs": []
    }
   ],
   "metadata": {}
  }
 ]
}