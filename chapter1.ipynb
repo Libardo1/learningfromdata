{
 "metadata": {
  "name": "",
  "signature": "sha256:1ecdb5e0a3f286f822eb1b687e541b9606e5cb4054179ab869e511ca0e83ba1e"
 },
 "nbformat": 3,
 "nbformat_minor": 0,
 "worksheets": [
  {
   "cells": [
    {
     "cell_type": "code",
     "collapsed": false,
     "input": [
      "%matplotlib inline\n",
      "import pandas\n",
      "import numpy as np"
     ],
     "language": "python",
     "metadata": {},
     "outputs": [],
     "prompt_number": 1
    },
    {
     "cell_type": "code",
     "collapsed": false,
     "input": [
      "\"\"\"Exercise 1.1.0\"\"\"\n",
      "\n",
      "def flipncoins(ncoins, flips, prob = 0.5):\n",
      "    res = [sum([np.random.random() >= prob  for x in range(3)]) for y in range(ncoins)]\n",
      "    return [res[0], res[np.random.randint(len(res))], min(res)]\n",
      "np.random.seed(42)"
     ],
     "language": "python",
     "metadata": {},
     "outputs": [],
     "prompt_number": 17
    },
    {
     "cell_type": "code",
     "collapsed": false,
     "input": [
      "\"\"\"Question 1.10 a\"\"\"\n",
      "res = flipncoins(1000,10)\n",
      "print \"Means for the three coins selected first = %0.3f, random = %0.3f, min = %0.3f\" %(res[0],res[1],res[2])\n"
     ],
     "language": "python",
     "metadata": {},
     "outputs": [
      {
       "output_type": "stream",
       "stream": "stdout",
       "text": [
        "Means for the three coins selected first = 3.000, random = 0.000, min = 0.000\n"
       ]
      }
     ],
     "prompt_number": 29
    },
    {
     "cell_type": "code",
     "collapsed": false,
     "input": [
      "\"\"\"Question 1.10 b\"\"\"\n",
      "first = []\n",
      "rand = []\n",
      "mins = []\n",
      "for i in range(1000):\n",
      "    r = flipncoins(1000,10)\n",
      "    first.append(r[0])\n",
      "    rand.append(r[1])\n",
      "    mins.append(r[2])\n",
      "    \n",
      "df = pandas.DataFrame()\n",
      "df['first'] = first\n",
      "df['random'] = rand\n",
      "df['min'] = mins\n"
     ],
     "language": "python",
     "metadata": {},
     "outputs": []
    }
   ],
   "metadata": {}
  }
 ]
}